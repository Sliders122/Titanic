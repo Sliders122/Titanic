{
 "nbformat": 4,
 "nbformat_minor": 0,
 "metadata": {
  "colab": {
   "name": "ML-intro.ipynb",
   "provenance": [],
   "collapsed_sections": [
    "YOZobYujDFX5"
   ]
  },
  "kernelspec": {
   "name": "python3",
   "display_name": "Python 3"
  },
  "language_info": {
   "name": "python"
  }
 },
 "cells": [
  {
   "cell_type": "markdown",
   "source": [
    "The goal of the 2 support lesson is to discover Pandas and Scikit-learn.\n",
    "Then, you can apply it to the *Zillow dataset*"
   ],
   "metadata": {
    "id": "pdx90bxFDgXk",
    "pycharm": {
     "name": "#%% md\n"
    }
   }
  },
  {
   "cell_type": "code",
   "execution_count": 4,
   "outputs": [
    {
     "data": {
      "text/plain": "'C:\\\\Users\\\\Quentin\\\\Documents\\\\ML\\\\scraper_zillow'"
     },
     "execution_count": 4,
     "metadata": {},
     "output_type": "execute_result"
    }
   ],
   "source": [
    "import os\n",
    "\n",
    "import pandas as pd\n",
    "\n",
    "os.getcwd()"
   ],
   "metadata": {
    "collapsed": false,
    "pycharm": {
     "name": "#%%\n"
    }
   }
  },
  {
   "cell_type": "markdown",
   "source": [
    "## Preliminary:"
   ],
   "metadata": {
    "id": "aFXnu3E-DXe2",
    "pycharm": {
     "name": "#%% md\n"
    }
   }
  },
  {
   "cell_type": "code",
   "execution_count": 5,
   "outputs": [],
   "source": [
    "df_train = pd.read_csv('train.csv')\n",
    "\n",
    "#import csv files\n",
    "def create_dataframe(filename):\n",
    "    \"\"\"\n",
    "\n",
    "    \"\"\"\n",
    "    df = pd.read_csv('filename')\n"
   ],
   "metadata": {
    "collapsed": false,
    "pycharm": {
     "name": "#%%\n"
    }
   }
  },
  {
   "cell_type": "markdown",
   "source": [
    "[Scikit-Learn](https://jakevdp.github.io/PythonDataScienceHandbook/05.02-introducing-scikit-learn.html)"
   ],
   "metadata": {
    "id": "hOuBte8BG6kO",
    "pycharm": {
     "name": "#%% md\n"
    }
   }
  },
  {
   "cell_type": "markdown",
   "source": [
    "[ANYBOOK](https://www.pdfdrive.com/python-for-data-analysis-data-wrangling-with-pandas-numpy-and-ipython-e184032353.html)"
   ],
   "metadata": {
    "id": "YuolPgJeHDpw",
    "pycharm": {
     "name": "#%% md\n"
    }
   }
  },
  {
   "cell_type": "markdown",
   "source": [
    "### Datasets"
   ],
   "metadata": {
    "id": "V_jYJ975H61H",
    "pycharm": {
     "name": "#%% md\n"
    }
   }
  },
  {
   "cell_type": "code",
   "source": [
    "#ABC of data science (scikit-learn)\n",
    "https://jakevdp.github.io/PythonDataScienceHandbook/05.02-introducing-scikit-learn.html"
   ],
   "metadata": {
    "id": "XhcclGo4ChN2",
    "pycharm": {
     "name": "#%%\n"
    }
   },
   "execution_count": null,
   "outputs": []
  },
  {
   "cell_type": "code",
   "execution_count": null,
   "metadata": {
    "id": "smVOvXRvA_ca",
    "pycharm": {
     "name": "#%%\n"
    }
   },
   "outputs": [],
   "source": [
    "# Titanic dataset\n",
    "# walkthrough: https://towardsdatascience.com/predicting-the-survival-of-titanic-passengers-30870ccc7e8"
   ]
  },
  {
   "cell_type": "code",
   "source": [
    "# boston housing dataset\n",
    "#  walkthrough: https://towardsdatascience.com/linear-regression-on-boston-housing-dataset-f409b7e4a155"
   ],
   "metadata": {
    "id": "0WVOkpwfB7hM",
    "pycharm": {
     "name": "#%%\n"
    }
   },
   "execution_count": null,
   "outputs": []
  },
  {
   "cell_type": "markdown",
   "source": [
    "## Define:\n",
    "- training set\n",
    "- validation set\n",
    "- test set\n",
    "- can I evaluate on the test set ?\n",
    "- can I evaluate on the training set?\n",
    "- accuracy\n",
    "- How do I measure accuracy ?\n",
    "- is RMSE  a good measure of accuracy for regression ?\n",
    "- is RMSE  a good measure of accuracy for classification ?\n",
    "- sensivity\n",
    "- specificity\n",
    "- recall\n",
    "- is recall same as sensitivity ?\n",
    "- is precision the same as specificity ?\n",
    "- what is a confusion matrix ?\n",
    "- undersampling\n",
    "- oversampling\n",
    "- 1-hot encoding\n",
    "- Is 1-hot encoding a good way to convert categorical data ?\n",
    "- Is 1-hot encoding a good way to convert ordinal data ?\n",
    "- What is data standardization - is it necessary?\n",
    "- what is a hyperparameter ?\n",
    "- what is a GridSearch ?\n",
    "- Can i do a GridSearch on training data ?"
   ],
   "metadata": {
    "id": "9qKHVAGqEmG8",
    "pycharm": {
     "name": "#%% md\n"
    }
   }
  },
  {
   "cell_type": "markdown",
   "source": [
    "Can I evaluate on the training set\n",
    "no\n"
   ],
   "metadata": {
    "collapsed": false,
    "pycharm": {
     "name": "#%% md\n"
    }
   }
  },
  {
   "cell_type": "markdown",
   "source": [
    "# A. Toy Zillow dataset"
   ],
   "metadata": {
    "id": "r9cZ8U8LD1zL",
    "pycharm": {
     "name": "#%% md\n"
    }
   }
  },
  {
   "cell_type": "markdown",
   "source": [
    "[Toy Zillow](https://www.kaggle.com/datasets/paultimothymooney/zillow-house-price-data)"
   ],
   "metadata": {
    "id": "4UPuP6LpGWxO",
    "pycharm": {
     "name": "#%% md\n"
    }
   }
  },
  {
   "cell_type": "markdown",
   "source": [
    "## Q.2 what is the distribution of the features ?"
   ],
   "metadata": {
    "id": "LRuCafg7C2N7",
    "pycharm": {
     "name": "#%% md\n"
    }
   }
  },
  {
   "cell_type": "markdown",
   "source": [
    "a. Are they normal ?"
   ],
   "metadata": {
    "id": "3L3UDcs6HiYh",
    "pycharm": {
     "name": "#%% md\n"
    }
   }
  },
  {
   "cell_type": "markdown",
   "source": [
    "> Please plot the features to better understand their behaviour"
   ],
   "metadata": {
    "id": "2Yo9ejTGHWdO",
    "pycharm": {
     "name": "#%% md\n"
    }
   }
  },
  {
   "cell_type": "markdown",
   "source": [
    "b. Are the feature correlated ?"
   ],
   "metadata": {
    "id": "Pti5OxDvHkge",
    "pycharm": {
     "name": "#%% md\n"
    }
   }
  },
  {
   "cell_type": "code",
   "source": [],
   "metadata": {
    "id": "rphLYdS8C7yT",
    "pycharm": {
     "name": "#%%\n"
    }
   },
   "execution_count": null,
   "outputs": []
  },
  {
   "cell_type": "markdown",
   "source": [
    "c. Is there any outliers ?"
   ],
   "metadata": {
    "id": "YULPfLt6HrRE",
    "pycharm": {
     "name": "#%% md\n"
    }
   }
  },
  {
   "cell_type": "markdown",
   "source": [
    "> Please pick the best visualization"
   ],
   "metadata": {
    "id": "HC1l6RviHuOe",
    "pycharm": {
     "name": "#%% md\n"
    }
   }
  },
  {
   "cell_type": "code",
   "source": [],
   "metadata": {
    "id": "GL5ySt05HfS5",
    "pycharm": {
     "name": "#%%\n"
    }
   },
   "execution_count": null,
   "outputs": []
  },
  {
   "cell_type": "markdown",
   "source": [
    "## Q.3 What algorithm is K-means ? apply it to your dataset"
   ],
   "metadata": {
    "id": "xN_Q6Dz_C81a",
    "pycharm": {
     "name": "#%% md\n"
    }
   }
  },
  {
   "cell_type": "code",
   "source": [],
   "metadata": {
    "id": "CRPuFvknC8kk",
    "pycharm": {
     "name": "#%%\n"
    }
   },
   "execution_count": null,
   "outputs": []
  },
  {
   "cell_type": "code",
   "source": [],
   "metadata": {
    "id": "pBTkc2q7DPSt",
    "pycharm": {
     "name": "#%%\n"
    }
   },
   "execution_count": null,
   "outputs": []
  },
  {
   "cell_type": "markdown",
   "source": [
    "## Q.4 What algorithm is k-nearest neighbours ? apply it to your dataset"
   ],
   "metadata": {
    "id": "YOZobYujDFX5",
    "pycharm": {
     "name": "#%% md\n"
    }
   }
  },
  {
   "cell_type": "code",
   "source": [],
   "metadata": {
    "id": "4cdkGv5YDFE4",
    "pycharm": {
     "name": "#%%\n"
    }
   },
   "execution_count": null,
   "outputs": []
  },
  {
   "cell_type": "code",
   "source": [],
   "metadata": {
    "id": "MK6LhGzzDP0l",
    "pycharm": {
     "name": "#%%\n"
    }
   },
   "execution_count": null,
   "outputs": []
  },
  {
   "cell_type": "markdown",
   "source": [
    "#B. Custom Zillow dataset"
   ],
   "metadata": {
    "id": "QfHuHBmTDyIt",
    "pycharm": {
     "name": "#%% md\n"
    }
   }
  },
  {
   "cell_type": "markdown",
   "source": [
    "### Based on previous lessons - you must have collected the information from Zillow itself\n",
    "*Github* :"
   ],
   "metadata": {
    "id": "X-_z-MH5GqGQ",
    "pycharm": {
     "name": "#%% md\n"
    }
   }
  },
  {
   "cell_type": "markdown",
   "source": [
    "## Q.1 What feature are you keeping, why?"
   ],
   "metadata": {
    "id": "QBlUfNsjCk-z",
    "pycharm": {
     "name": "#%% md\n"
    }
   }
  },
  {
   "cell_type": "markdown",
   "source": [
    "## Q.2 What transformation are you doing on your data, why?"
   ],
   "metadata": {
    "id": "XoOmTXozH_Gr",
    "pycharm": {
     "name": "#%% md\n"
    }
   }
  },
  {
   "cell_type": "code",
   "source": [],
   "metadata": {
    "id": "5eSOnzWuEPVo",
    "pycharm": {
     "name": "#%%\n"
    }
   },
   "execution_count": null,
   "outputs": []
  },
  {
   "cell_type": "code",
   "source": [],
   "metadata": {
    "id": "7zhl0a5fEPTI",
    "pycharm": {
     "name": "#%%\n"
    }
   },
   "execution_count": null,
   "outputs": []
  },
  {
   "cell_type": "code",
   "source": [],
   "metadata": {
    "id": "c1abC296EPQZ",
    "pycharm": {
     "name": "#%%\n"
    }
   },
   "execution_count": null,
   "outputs": []
  },
  {
   "cell_type": "code",
   "source": [],
   "metadata": {
    "id": "G5mxdauwEPNu",
    "pycharm": {
     "name": "#%%\n"
    }
   },
   "execution_count": null,
   "outputs": []
  },
  {
   "cell_type": "code",
   "source": [],
   "metadata": {
    "id": "hcIUqugKEPKH",
    "pycharm": {
     "name": "#%%\n"
    }
   },
   "execution_count": null,
   "outputs": []
  },
  {
   "cell_type": "markdown",
   "source": [
    "## Q.3 What type of algorithm are Random Forest/Decision trees/xgboost ? "
   ],
   "metadata": {
    "id": "MxPqozjCEFPW",
    "pycharm": {
     "name": "#%% md\n"
    }
   }
  },
  {
   "cell_type": "code",
   "source": [],
   "metadata": {
    "id": "XC4zUt34C1mT",
    "pycharm": {
     "name": "#%%\n"
    }
   },
   "execution_count": null,
   "outputs": []
  },
  {
   "cell_type": "code",
   "source": [],
   "metadata": {
    "id": "aF_h9d0WEQbw",
    "pycharm": {
     "name": "#%%\n"
    }
   },
   "execution_count": null,
   "outputs": []
  },
  {
   "cell_type": "markdown",
   "source": [
    "## Q.4 Scikit-Learn Pipelines"
   ],
   "metadata": {
    "id": "SJT7A4FAIxNa",
    "pycharm": {
     "name": "#%% md\n"
    }
   }
  },
  {
   "cell_type": "markdown",
   "source": [
    "[SKLEARN-PIPELINES](https://towardsdatascience.com/step-by-step-tutorial-of-sci-kit-learn-pipeline-62402d5629b6)"
   ],
   "metadata": {
    "id": "WSqsES_GI7qE",
    "pycharm": {
     "name": "#%% md\n"
    }
   }
  },
  {
   "cell_type": "code",
   "source": [],
   "metadata": {
    "id": "hM4E0LfQEQZb",
    "pycharm": {
     "name": "#%%\n"
    }
   },
   "execution_count": null,
   "outputs": []
  },
  {
   "cell_type": "code",
   "source": [],
   "metadata": {
    "id": "1p2uQ4DLEQW4",
    "pycharm": {
     "name": "#%%\n"
    }
   },
   "execution_count": null,
   "outputs": []
  },
  {
   "cell_type": "code",
   "source": [],
   "metadata": {
    "id": "hoWcR9XCEQUG",
    "pycharm": {
     "name": "#%%\n"
    }
   },
   "execution_count": null,
   "outputs": []
  }
 ]
}